{
 "cells": [
  {
   "cell_type": "markdown",
   "id": "aed9f8bb",
   "metadata": {},
   "source": [
    "## Data Ingestion "
   ]
  },
  {
   "cell_type": "code",
   "execution_count": 2,
   "id": "365ebaae",
   "metadata": {},
   "outputs": [],
   "source": [
    "from collections import namedtuple\n",
    "import os "
   ]
  },
  {
   "cell_type": "code",
   "execution_count": 3,
   "id": "fc44262f",
   "metadata": {},
   "outputs": [],
   "source": [
    "DataIngestionConfig = namedtuple(\"DataIngestionConfig\",[\n",
    "    \"root_dir\",\n",
    "    \"source_url\",\n",
    "    \"local_data_file\",\n",
    "    \"unzip_dir\"\n",
    "])"
   ]
  },
  {
   "cell_type": "code",
   "execution_count": 4,
   "id": "59ab3529",
   "metadata": {},
   "outputs": [],
   "source": [
    "from dataclasses import dataclass\n",
    "from pathlib import Path\n",
    "\n",
    "@dataclass(frozen=True)\n",
    "class DataIngestionConfig:\n",
    "    root_dir: Path\n",
    "    source_url: str\n",
    "    local_data_file: Path\n",
    "    unzip_dir: Path\n"
   ]
  },
  {
   "cell_type": "code",
   "execution_count": null,
   "id": "33552f3a",
   "metadata": {},
   "outputs": [],
   "source": [
    "from CNN.constants import *"
   ]
  }
 ],
 "metadata": {
  "kernelspec": {
   "display_name": "brest",
   "language": "python",
   "name": "python3"
  },
  "language_info": {
   "codemirror_mode": {
    "name": "ipython",
    "version": 3
   },
   "file_extension": ".py",
   "mimetype": "text/x-python",
   "name": "python",
   "nbconvert_exporter": "python",
   "pygments_lexer": "ipython3",
   "version": "3.9.21"
  }
 },
 "nbformat": 4,
 "nbformat_minor": 5
}
